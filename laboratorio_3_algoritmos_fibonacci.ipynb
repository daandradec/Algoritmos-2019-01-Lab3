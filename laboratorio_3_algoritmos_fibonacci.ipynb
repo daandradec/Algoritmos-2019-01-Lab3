{
 "cells": [
  {
   "cell_type": "markdown",
   "metadata": {
    "colab_type": "text",
    "id": "7XMFWrumdKkZ"
   },
   "source": [
    "Desarrolle un programa iterativo que calculen el n termino de la  la serie de Fibonacci  en Python que retorne el tiempo de ejecución y use mathplotlib y utilícelos para gráficar el tiempo de ejecución en función de n. Publique el código y los resultados en  Quantopian   y Github como un  Ipython notebook. "
   ]
  },
  {
   "cell_type": "code",
   "execution_count": 1,
   "metadata": {
    "colab": {},
    "colab_type": "code",
    "id": "EzGj6uRJc2tA"
   },
   "outputs": [],
   "source": [
    "import matplotlib.pyplot as plt\n",
    "import time\n",
    "import numpy"
   ]
  },
  {
   "cell_type": "code",
   "execution_count": 2,
   "metadata": {
    "colab": {},
    "colab_type": "code",
    "id": "R6hYKCb-eFcV"
   },
   "outputs": [],
   "source": [
    "def fibonacci(n):\n",
    "    if n <= 1:\n",
    "        return n\n",
    "  \n",
    "    a = 0;\n",
    "    b = 1;\n",
    "  \n",
    "    for i in range(1,n):\n",
    "        aux = b;\n",
    "        b = a + b;\n",
    "        a = aux;\n",
    "    return b;\n",
    "  "
   ]
  },
  {
   "cell_type": "code",
   "execution_count": 3,
   "metadata": {
    "colab": {},
    "colab_type": "code",
    "id": "n7J91vd7eV2M"
   },
   "outputs": [],
   "source": [
    "def fibonacciMagic(n):\n",
    "    t0 = time.clock()\n",
    "    m = fibonacci(n)\n",
    "    tf =time.clock()\n",
    "    return m,(tf-t0)\n",
    "    #print(\"el \", n, \" termino de fibonacci fue: \", m , \"y se proceso en : \", (tf-t0), \"milisegundos\");\n"
   ]
  },
  {
   "cell_type": "code",
   "execution_count": 4,
   "metadata": {
    "colab": {},
    "colab_type": "code",
    "id": "9UGhDc62fMbL"
   },
   "outputs": [],
   "source": [
    "n = 4000"
   ]
  },
  {
   "cell_type": "code",
   "execution_count": 11,
   "metadata": {
    "colab": {},
    "colab_type": "code",
    "id": "GkYcAnFmgCwr"
   },
   "outputs": [],
   "source": [
    "def generate_fibonacci_vector(n):\n",
    "    x = numpy.arange(1,n)\n",
    "    y = []\n",
    "    for i in range(1, n):\n",
    "        fibo,timer = fibonacciMagic(i)\n",
    "        y.append(timer)\n",
    "    plt.plot(x, y)\n",
    "    plt.xlabel('n-esimo termino')\n",
    "    plt.ylabel('Tiempo')\n",
    "    plt.title('Tiempo de calculo del n-esimo termino de Fibonnaci')\n",
    "    plt.show()"
   ]
  },
  {
   "cell_type": "code",
   "execution_count": 12,
   "metadata": {
    "colab": {
     "base_uri": "https://localhost:8080/",
     "height": 295
    },
    "colab_type": "code",
    "executionInfo": {
     "elapsed": 1920,
     "status": "ok",
     "timestamp": 1557269814299,
     "user": {
      "displayName": "Duvan Alberto Andrade Cuenca",
      "photoUrl": "",
      "userId": "07259560589155513667"
     },
     "user_tz": 300
    },
    "id": "y7lSwcxYgrds",
    "outputId": "e1b020bf-eacf-4d20-e4e0-87f630707ce5"
   },
   "outputs": [
    {
     "data": {
      "image/png": "[encoded data removed]",
      "text/plain": [
       "<Figure size 432x288 with 1 Axes>"
      ]
     },
     "metadata": {},
     "output_type": "display_data"
    }
   ],
   "source": [
    "generate_fibonacci_vector(n)"
   ]
  },
  {
   "cell_type": "code",
   "execution_count": null,
   "metadata": {},
   "outputs": [],
   "source": []
  }
 ],
 "metadata": {
  "colab": {
   "collapsed_sections": [],
   "name": "laboratorio_3_algoritmos_fibonacci.ipynb",
   "provenance": [],
   "version": "0.3.2"
  },
  "kernelspec": {
   "display_name": "Python 3",
   "language": "python",
   "name": "python3"
  },
  "language_info": {
   "codemirror_mode": {
    "name": "ipython",
    "version": 3
   },
   "file_extension": ".py",
   "mimetype": "text/x-python",
   "name": "python",
   "nbconvert_exporter": "python",
   "pygments_lexer": "ipython3",
   "version": "3.6.5"
  }
 },
 "nbformat": 4,
 "nbformat_minor": 1
}
